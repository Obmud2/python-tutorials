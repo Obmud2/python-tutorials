{
 "cells": [
  {
   "cell_type": "code",
   "execution_count": 47,
   "metadata": {},
   "outputs": [],
   "source": [
    "import csv, numpy\n",
    "import matplotlib.pyplot as plt\n",
    "import pandas as pd"
   ]
  },
  {
   "cell_type": "code",
   "execution_count": 48,
   "metadata": {},
   "outputs": [
    {
     "name": "stdout",
     "output_type": "stream",
     "text": [
      "   Sepal Length  Sepal Width  Petal Length  Petal Width      Species\n",
      "0           5.1          3.5           1.4          0.2  Iris-setosa\n",
      "1           4.9          3.0           1.4          0.2  Iris-setosa\n",
      "2           4.7          3.2           1.3          0.2  Iris-setosa\n",
      "3           4.6          3.1           1.5          0.2  Iris-setosa\n",
      "4           5.0          3.6           1.4          0.2  Iris-setosa\n"
     ]
    }
   ],
   "source": [
    "with open(\"iris.data\", \"r\") as csv_file:\n",
    "    IrisData = csv.reader(csv_file, delimiter=',')\n",
    "    sepalLength = []\n",
    "    sepalWidth = []\n",
    "    petalLength = []\n",
    "    petalWidth = []\n",
    "    irisClass = []\n",
    "    for row in IrisData:\n",
    "        iris1 = float(row[0])\n",
    "        iris2 = float(row[1])\n",
    "        iris3 = float(row[2])\n",
    "        iris4 = float(row[3])\n",
    "        iris5 = row[4]\n",
    "        \n",
    "        sepalLength.append(iris1)\n",
    "        sepalWidth.append(iris2)\n",
    "        petalLength.append(iris3)\n",
    "        petalWidth.append(iris4)\n",
    "        irisClass.append(iris5)\n",
    "        \n",
    "        irisData = [sepalLength, sepalWidth, petalLength, petalWidth]\n",
    "        \n",
    "dataset = pd.DataFrame({'Sepal Length':sepalLength, 'Sepal Width':sepalWidth, 'Petal Length':petalLength, 'Petal Width':petalWidth, 'Species':irisClass})\n",
    "print(dataset.head())        "
   ]
  },
  {
   "cell_type": "code",
   "execution_count": 49,
   "metadata": {},
   "outputs": [
    {
     "name": "stdout",
     "output_type": "stream",
     "text": [
      "<class 'pandas.core.frame.DataFrame'>\n",
      "RangeIndex: 150 entries, 0 to 149\n",
      "Data columns (total 5 columns):\n",
      "Sepal Length    150 non-null float64\n",
      "Sepal Width     150 non-null float64\n",
      "Petal Length    150 non-null float64\n",
      "Petal Width     150 non-null float64\n",
      "Species         150 non-null object\n",
      "dtypes: float64(4), object(1)\n",
      "memory usage: 5.9+ KB\n",
      "None\n",
      "\n",
      "\n",
      "       Sepal Length  Sepal Width  Petal Length  Petal Width\n",
      "count    150.000000   150.000000    150.000000   150.000000\n",
      "mean       5.843333     3.054000      3.758667     1.198667\n",
      "std        0.828066     0.433594      1.764420     0.763161\n",
      "min        4.300000     2.000000      1.000000     0.100000\n",
      "25%        5.100000     2.800000      1.600000     0.300000\n",
      "50%        5.800000     3.000000      4.350000     1.300000\n",
      "75%        6.400000     3.300000      5.100000     1.800000\n",
      "max        7.900000     4.400000      6.900000     2.500000\n",
      "\n",
      "\n",
      "Species\n",
      "Iris-setosa        50\n",
      "Iris-versicolor    50\n",
      "Iris-virginica     50\n",
      "dtype: int64\n"
     ]
    }
   ],
   "source": [
    "print(dataset.info())\n",
    "print('\\n')\n",
    "print(dataset.describe())\n",
    "print('\\n')\n",
    "print(dataset.groupby('Species').size())"
   ]
  },
  {
   "cell_type": "code",
   "execution_count": 51,
   "metadata": {},
   "outputs": [
    {
     "data": {
      "text/plain": [
       "array([[<matplotlib.axes._subplots.AxesSubplot object at 0x1116670b8>,\n",
       "        <matplotlib.axes._subplots.AxesSubplot object at 0x1121965c0>],\n",
       "       [<matplotlib.axes._subplots.AxesSubplot object at 0x1121ba3c8>,\n",
       "        <matplotlib.axes._subplots.AxesSubplot object at 0x1121fa400>]],\n",
       "      dtype=object)"
      ]
     },
     "execution_count": 51,
     "metadata": {},
     "output_type": "execute_result"
    },
    {
     "data": {
      "image/png": "[encoded data removed]",
      "text/plain": [
       "<matplotlib.figure.Figure at 0x111b363c8>"
      ]
     },
     "metadata": {},
     "output_type": "display_data"
    },
    {
     "data": {
      "image/png": "[encoded data removed]",
      "text/plain": [
       "<matplotlib.figure.Figure at 0x111b36048>"
      ]
     },
     "metadata": {},
     "output_type": "display_data"
    }
   ],
   "source": [
    "#box and whisker plot\n",
    "dataset.plot(kind='box', sharex=False, sharey=False)\n",
    "dataset.hist()"
   ]
  },
  {
   "cell_type": "code",
   "execution_count": null,
   "metadata": {},
   "outputs": [],
   "source": []
  }
 ],
 "metadata": {
  "kernelspec": {
   "display_name": "Python 3",
   "language": "python",
   "name": "python3"
  },
  "language_info": {
   "codemirror_mode": {
    "name": "ipython",
    "version": 3
   },
   "file_extension": ".py",
   "mimetype": "text/x-python",
   "name": "python",
   "nbconvert_exporter": "python",
   "pygments_lexer": "ipython3",
   "version": "3.6.4"
  }
 },
 "nbformat": 4,
 "nbformat_minor": 2
}
