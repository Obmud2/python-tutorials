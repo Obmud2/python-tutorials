{
 "cells": [
  {
   "cell_type": "code",
   "execution_count": 1,
   "metadata": {},
   "outputs": [
    {
     "ename": "IndexError",
     "evalue": "only integers, slices (`:`), ellipsis (`...`), numpy.newaxis (`None`) and integer or boolean arrays are valid indices",
     "output_type": "error",
     "traceback": [
      "\u001b[0;31m---------------------------------------------------------------------------\u001b[0m",
      "\u001b[0;31mIndexError\u001b[0m                                Traceback (most recent call last)",
      "\u001b[0;32m<ipython-input-1-e5b19f3b473a>\u001b[0m in \u001b[0;36m<module>\u001b[0;34m()\u001b[0m\n\u001b[1;32m     34\u001b[0m \u001b[0;34m\u001b[0m\u001b[0m\n\u001b[1;32m     35\u001b[0m \u001b[0;31m#source\u001b[0m\u001b[0;34m\u001b[0m\u001b[0;34m\u001b[0m\u001b[0m\n\u001b[0;32m---> 36\u001b[0;31m \u001b[0mb\u001b[0m\u001b[0;34m[\u001b[0m\u001b[0mny\u001b[0m\u001b[0;34m/\u001b[0m\u001b[0;36m4\u001b[0m\u001b[0;34m,\u001b[0m \u001b[0mnx\u001b[0m\u001b[0;34m/\u001b[0m\u001b[0;36m4\u001b[0m\u001b[0;34m]\u001b[0m \u001b[0;34m=\u001b[0m \u001b[0;36m100\u001b[0m\u001b[0;34m\u001b[0m\u001b[0m\n\u001b[0m\u001b[1;32m     37\u001b[0m \u001b[0mb\u001b[0m\u001b[0;34m[\u001b[0m\u001b[0;36m3\u001b[0m\u001b[0;34m*\u001b[0m\u001b[0mny\u001b[0m\u001b[0;34m/\u001b[0m\u001b[0;36m4\u001b[0m\u001b[0;34m,\u001b[0m \u001b[0;36m3\u001b[0m\u001b[0;34m*\u001b[0m\u001b[0mnx\u001b[0m\u001b[0;34m/\u001b[0m\u001b[0;36m4\u001b[0m\u001b[0;34m]\u001b[0m \u001b[0;34m=\u001b[0m \u001b[0;36m100\u001b[0m\u001b[0;34m\u001b[0m\u001b[0m\n\u001b[1;32m     38\u001b[0m \u001b[0;34m\u001b[0m\u001b[0m\n",
      "\u001b[0;31mIndexError\u001b[0m: only integers, slices (`:`), ellipsis (`...`), numpy.newaxis (`None`) and integer or boolean arrays are valid indices"
     ]
    }
   ],
   "source": [
    "import numpy\n",
    "from matplotlib import pyplot, cm\n",
    "from mpl_toolkits.mplot3d import Axes3D\n",
    "%matplotlib inline\n",
    "\n",
    "def plot2D(x, y, p):\n",
    "    fig = pyplot.figure(figsize=(11,7), dpi=100)\n",
    "    ax = fig.gca(projection='3d')\n",
    "    X, Y = numpy.meshgrid(x, y)\n",
    "    surf = ax.plot_surface(X, Y, p[:], rstride=1, cstride=1, cmap=cm.viridis,\n",
    "            linewidth=0, antialiased=False)\n",
    "    ax.set_xlim(0, 2)\n",
    "    ax.set_ylim(0, 1)\n",
    "    ax.view_init(30, 225)\n",
    "    ax.set_xlabel('$x$')\n",
    "    ax.set_ylabel('$y$')\n",
    "    \n",
    "#variables\n",
    "nx = 61\n",
    "ny = 61\n",
    "nt = 100\n",
    "xmin = 0\n",
    "xmax = 2\n",
    "ymin = 0\n",
    "ymax = 2\n",
    "dx = (xmax - xmin) / (nx - 1)\n",
    "dy = (ymax - ymin) / (ny - 1)\n",
    "\n",
    "p = numpy.zeros((ny, nx))\n",
    "pn = numpy.zeros((ny, nx))\n",
    "b = numpy.zeros((ny, nx))\n",
    "x = numpy.linspace(xmin, xmax, nx)\n",
    "y = numpy.linspace(ymin, ymax, ny)\n",
    "\n",
    "#source\n",
    "b[int(ny/4), int(nx/4)] = 100\n",
    "b[int(3*ny/4), int(3*nx/4)] = 100\n",
    "\n",
    "#2d poissons eqn\n",
    "for it in range(nt):\n",
    "    pn = p.copy()\n",
    "    p[1:-1,1:-1] = ((dy**2 * (pn[1:-1, 2:] + pn[1:-1, 0:-2]) + \n",
    "                     dx**2 * (pn[2:, 1:-1] + pn[0:-2, 1:-1]) - \n",
    "                     b[1:-1,1:-1] * dx**2 * dy**2) / \n",
    "                     (2 * (dx**2 + dy**2)))\n",
    "    p[0, :] = 0\n",
    "    p[-1, :] = 0\n",
    "    p[:, 0] = 0\n",
    "    p[:, -1] = 0\n",
    "    \n",
    "plot2D(x, y, p)"
   ]
  },
  {
   "cell_type": "code",
   "execution_count": null,
   "metadata": {},
   "outputs": [],
   "source": []
  }
 ],
 "metadata": {
  "kernelspec": {
   "display_name": "Python 3",
   "language": "python",
   "name": "python3"
  },
  "language_info": {
   "codemirror_mode": {
    "name": "ipython",
    "version": 3
   },
   "file_extension": ".py",
   "mimetype": "text/x-python",
   "name": "python",
   "nbconvert_exporter": "python",
   "pygments_lexer": "ipython3",
   "version": "3.6.4"
  }
 },
 "nbformat": 4,
 "nbformat_minor": 2
}
