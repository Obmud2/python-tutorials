{
 "cells": [
  {
   "cell_type": "code",
   "execution_count": null,
   "metadata": {},
   "outputs": [],
   "source": [
    "import numpy\n",
    "from matplotlib import pyplot\n",
    "%matplotlib inline\n",
    "\n",
    "#Domain variables\n",
    "nx = 41\n",
    "dx = 2 / (nx - 1)\n",
    "nt = 20\n",
    "nu = 0.3 #viscosity\n",
    "sigma = 0.2\n",
    "dt = sigma * dx**2 / nu\n",
    "\n",
    "#Initial conditions\n",
    "u = numpy.ones(nx) #else u = 1\n",
    "u[int(0.5 / dx):int(1 / dx + 1)] = 2   #u = 2 for 0.5 < x < 1\n",
    "\n",
    "un = numpy.ones(nx) #placeholder array for timesteps\n",
    "\n",
    "#Calculate results\n",
    "for n in range(nt): #iterate time steps\n",
    "    un = u.copy()   #copy u to placeholder\n",
    "    for i in range(1, nx-1): #iterate through u array\n",
    "        u[i] = un[i] + nu * dt / dx**2 * (un[i+1] - 2 * un[i] + un[i-1]) #diffusion equation\n",
    "        \n",
    "#Plot\n",
    "pyplot.plot(numpy.linspace(0, 2, nx), u)\n",
    "        \n",
    "\n",
    "        \n",
    "        \n",
    "        "
   ]
  }
 ],
 "metadata": {
  "kernelspec": {
   "display_name": "Python 3",
   "language": "python",
   "name": "python3"
  },
  "language_info": {
   "codemirror_mode": {
    "name": "ipython",
    "version": 3
   },
   "file_extension": ".py",
   "mimetype": "text/x-python",
   "name": "python",
   "nbconvert_exporter": "python",
   "pygments_lexer": "ipython3",
   "version": "3.6.4"
  }
 },
 "nbformat": 4,
 "nbformat_minor": 2
}
